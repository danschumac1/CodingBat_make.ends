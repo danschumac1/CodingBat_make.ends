{
 "cells": [
  {
   "cell_type": "markdown",
   "id": "170c2f9e",
   "metadata": {},
   "source": [
    "# List-1 > make_ends"
   ]
  },
  {
   "cell_type": "markdown",
   "id": "0d411ff9",
   "metadata": {},
   "source": [
    "Given an array of ints, return a new array length 2 containing the first and last elements from the original array. The original array will be length 1 or more.\n",
    "\n",
    "\n",
    "make_ends([1, 2, 3]) → [1, 3]\n",
    "\n",
    "make_ends([1, 2, 3, 4]) → [1, 4]\n",
    "\n",
    "make_ends([7, 4, 6, 2]) → [7, 2]"
   ]
  },
  {
   "cell_type": "code",
   "execution_count": null,
   "id": "a596f7d6",
   "metadata": {},
   "outputs": [],
   "source": [
    "def make_ends(nums):\n",
    "  new_array = []\n",
    "  new_array.append(nums[0])\n",
    "  new_array.append(nums[-1])\n",
    "  return new_array"
   ]
  }
 ],
 "metadata": {
  "kernelspec": {
   "display_name": "Python 3 (ipykernel)",
   "language": "python",
   "name": "python3"
  },
  "language_info": {
   "codemirror_mode": {
    "name": "ipython",
    "version": 3
   },
   "file_extension": ".py",
   "mimetype": "text/x-python",
   "name": "python",
   "nbconvert_exporter": "python",
   "pygments_lexer": "ipython3",
   "version": "3.9.12"
  }
 },
 "nbformat": 4,
 "nbformat_minor": 5
}
